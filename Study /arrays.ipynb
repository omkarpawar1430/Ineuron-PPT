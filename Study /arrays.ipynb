{
 "cells": [
  {
   "attachments": {},
   "cell_type": "markdown",
   "metadata": {},
   "source": [
    "# Arrays"
   ]
  },
  {
   "cell_type": "code",
   "execution_count": 5,
   "metadata": {},
   "outputs": [],
   "source": [
    "\n",
    "\n",
    "# importing \"array\" for array operations\n",
    "import array\n"
   ]
  },
  {
   "cell_type": "code",
   "execution_count": 6,
   "metadata": {},
   "outputs": [
    {
     "name": "stdout",
     "output_type": "stream",
     "text": [
      "array('i', [1, 2, 3])\n",
      "array('i', [1, 2, 3, 4])\n",
      "array('i', [1, 2, 5, 3, 4])\n"
     ]
    }
   ],
   "source": [
    "\n",
    "# initializing array with array values\n",
    "# initializes array with signed integers\n",
    "arr = array.array(\"i\", [1, 2, 3])\n",
    "\n",
    "print(arr)\n",
    "\n",
    "# using append() to insert new value at end\n",
    "arr.append(4);\n",
    "\n",
    "print(arr)\n",
    "\t\n",
    "# using insert() to insert value at specific position\n",
    "# inserts 5 at 2nd position\n",
    "arr.insert(2, 5)\n",
    "\n",
    "print(arr)\n"
   ]
  },
  {
   "cell_type": "code",
   "execution_count": 7,
   "metadata": {},
   "outputs": [
    {
     "name": "stdout",
     "output_type": "stream",
     "text": [
      "The popped element is : 5\n",
      "The array after popping is : array('i', [1, 2, 3, 4])\n",
      "The array after removing is : array('i', [2, 3, 4])\n"
     ]
    }
   ],
   "source": [
    "\n",
    "\n",
    "# using pop() to remove element at 2nd position\n",
    "print (\"The popped element is : \",end=\"\")\n",
    "print (arr.pop(2)) # returns removed element\n",
    "\n",
    "# printing array after popping\n",
    "print (\"The array after popping is : \",end=\"\")\n",
    "print(arr)\n",
    "\n",
    "# using remove() to remove 1st occurrence of 1\n",
    "arr.remove(1)\n",
    "\n",
    "# printing array after removing\n",
    "print (\"The array after removing is : \",end=\"\")\n",
    "print(arr)\n"
   ]
  },
  {
   "cell_type": "code",
   "execution_count": 8,
   "metadata": {},
   "outputs": [
    {
     "name": "stdout",
     "output_type": "stream",
     "text": [
      "array('i', [2, 3, 4])\n",
      "The index of 1st occurrence of 2 is : 0\n",
      "The array after reversing is : array('i', [4, 3, 2])\n"
     ]
    }
   ],
   "source": [
    "\n",
    "print(arr)\n",
    "\n",
    "# using index() to print index of 1st occurrence of 2\n",
    "print (\"The index of 1st occurrence of 2 is : \",end=\"\")\n",
    "print (arr.index(2))\n",
    "\n",
    "#using reverse() to reverse the array\n",
    "arr.reverse() # makes a permanent change in array \n",
    " \n",
    "# printing array after reversing\n",
    "print (\"The array after reversing is : \",end=\"\")\n",
    "print(arr)\n"
   ]
  },
  {
   "cell_type": "code",
   "execution_count": null,
   "metadata": {},
   "outputs": [],
   "source": []
  }
 ],
 "metadata": {
  "kernelspec": {
   "display_name": "Python 3",
   "language": "python",
   "name": "python3"
  },
  "language_info": {
   "codemirror_mode": {
    "name": "ipython",
    "version": 3
   },
   "file_extension": ".py",
   "mimetype": "text/x-python",
   "name": "python",
   "nbconvert_exporter": "python",
   "pygments_lexer": "ipython3",
   "version": "3.10.6"
  },
  "orig_nbformat": 4
 },
 "nbformat": 4,
 "nbformat_minor": 2
}
