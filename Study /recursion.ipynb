{
 "cells": [
  {
   "attachments": {},
   "cell_type": "markdown",
   "metadata": {},
   "source": [
    "# DSA Lec : Friday | Jun 2"
   ]
  },
  {
   "cell_type": "code",
   "execution_count": 2,
   "metadata": {},
   "outputs": [
    {
     "data": {
      "text/plain": [
       "12"
      ]
     },
     "execution_count": 2,
     "metadata": {},
     "output_type": "execute_result"
    }
   ],
   "source": [
    "123//10 # integer Division "
   ]
  },
  {
   "cell_type": "code",
   "execution_count": 3,
   "metadata": {},
   "outputs": [],
   "source": [
    "# Input: 123 \n",
    "# output: 6 (i.e. 1 + 2 + 3 )"
   ]
  },
  {
   "cell_type": "code",
   "execution_count": 10,
   "metadata": {},
   "outputs": [
    {
     "data": {
      "text/plain": [
       "3"
      ]
     },
     "execution_count": 10,
     "metadata": {},
     "output_type": "execute_result"
    }
   ],
   "source": [
    "num = 12\n",
    "summ = 0\n",
    "\n",
    "def sum_of_digits(num):\n",
    "    if num == 0:\n",
    "        return 0\n",
    "    else: \n",
    "        return (num % 10) + sum_of_digits(num//10) # 2 + 1 \n",
    "\n",
    "sum_of_digits(num)\n",
    "# TC: \n",
    "# SC:   "
   ]
  },
  {
   "cell_type": "code",
   "execution_count": 13,
   "metadata": {},
   "outputs": [
    {
     "data": {
      "text/plain": [
       "8"
      ]
     },
     "execution_count": 13,
     "metadata": {},
     "output_type": "execute_result"
    }
   ],
   "source": [
    "# find GCD:\n",
    "def find_gcd(a, b):\n",
    "    \"\"\"returns gcd of given number\"\"\"\n",
    "    if a == 0:\n",
    "        return b\n",
    "    elif a > b:\n",
    "        temp = a\n",
    "        a = b \n",
    "        b = temp\n",
    "        return find_gcd(a, b)\n",
    "    else:\n",
    "        temp = a\n",
    "        a = b - a\n",
    "        b = temp \n",
    "        return find_gcd(a, b)\n",
    "find_gcd(16, 24)"
   ]
  },
  {
   "cell_type": "code",
   "execution_count": 14,
   "metadata": {},
   "outputs": [
    {
     "data": {
      "text/plain": [
       "8"
      ]
     },
     "execution_count": 14,
     "metadata": {},
     "output_type": "execute_result"
    }
   ],
   "source": [
    "# find GCD:\n",
    "def find_gcd(a, b):\n",
    "    \"\"\"returns gcd of given number\"\"\"\n",
    "    if a == 0:\n",
    "        return b\n",
    "    elif a > b:\n",
    "        temp = a\n",
    "        a = b \n",
    "        b = temp\n",
    "        return find_gcd(a, b)\n",
    "    else:\n",
    "        temp = a\n",
    "        a = b % a # it is more efficient than above approach... as we are checking less numbers with this strategy...\n",
    "        b = temp \n",
    "        return find_gcd(a, b)\n",
    "find_gcd(16, 24)"
   ]
  }
 ],
 "metadata": {
  "kernelspec": {
   "display_name": "Python 3",
   "language": "python",
   "name": "python3"
  },
  "language_info": {
   "codemirror_mode": {
    "name": "ipython",
    "version": 3
   },
   "file_extension": ".py",
   "mimetype": "text/x-python",
   "name": "python",
   "nbconvert_exporter": "python",
   "pygments_lexer": "ipython3",
   "version": "3.10.6"
  },
  "orig_nbformat": 4
 },
 "nbformat": 4,
 "nbformat_minor": 2
}
