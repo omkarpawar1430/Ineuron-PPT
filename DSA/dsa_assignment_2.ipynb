{
 "cells": [
  {
   "attachments": {},
   "cell_type": "markdown",
   "metadata": {},
   "source": [
    "# Assignment Questions 2\n"
   ]
  },
  {
   "cell_type": "markdown",
   "metadata": {},
   "source": [
    "\n",
    "<aside>\n",
    "💡 **Question 1**\n",
    "Given an integer array nums of 2n integers, group these integers into n pairs (a1, b1), (a2, b2),..., (an, bn) such that the sum of min(ai, bi) for all i is maximized. Return the maximized sum.\n",
    "\n",
    "**Example 1:**\n",
    "Input: nums = [1,4,3,2]\n",
    "Output: 4\n",
    "\n",
    "**Explanation:** All possible pairings (ignoring the ordering of elements) are:\n",
    "\n",
    "1. (1, 4), (2, 3) -> min(1, 4) + min(2, 3) = 1 + 2 = 3\n",
    "2. (1, 3), (2, 4) -> min(1, 3) + min(2, 4) = 1 + 2 = 3\n",
    "3. (1, 2), (3, 4) -> min(1, 2) + min(3, 4) = 1 + 3 = 4\n",
    "So the maximum possible sum is 4\n",
    "</aside>\n"
   ]
  },
  {
   "cell_type": "code",
   "execution_count": 4,
   "metadata": {},
   "outputs": [
    {
     "data": {
      "text/plain": [
       "4"
      ]
     },
     "execution_count": 4,
     "metadata": {},
     "output_type": "execute_result"
    }
   ],
   "source": [
    "#TC =O(nlogn)\n",
    "#SC =O(1)\n",
    "def pairsum(nums):\n",
    "    nums.sort() #TC=O(nlogn)\n",
    "    sum_out=0\n",
    "    i=0\n",
    "    for i in range(0,len(nums),2):\n",
    "        sum_out += nums[i]\n",
    "\n",
    "    return sum_out\n",
    "\n",
    "nums=[1,4,3,2]\n",
    "pairsum(nums)"
   ]
  },
  {
   "cell_type": "markdown",
   "metadata": {},
   "source": [
    "\n",
    "<aside>\n",
    "💡 **Question 2**\n",
    "Alice has n candies, where the ith candy is of type candyType[i]. Alice noticed that she started to gain weight, so she visited a doctor. \n",
    "\n",
    "The doctor advised Alice to only eat n / 2 of the candies she has (n is always even). Alice likes her candies very much, and she wants to eat the maximum number of different types of candies while still following the doctor's advice. \n",
    "\n",
    "Given the integer array candyType of length n, return the maximum number of different types of candies she can eat if she only eats n / 2 of them.\n",
    "\n",
    "**Example 1:**\n",
    "Input: candyType = [1,1,2,2,3,3]\n",
    "Output: 3\n",
    "\n",
    "**Explanation**: Alice can only eat 6 / 2 = 3 candies. Since there are only 3 types, she can eat one of each type.\n",
    "\n",
    "</aside>\n"
   ]
  },
  {
   "cell_type": "code",
   "execution_count": 5,
   "metadata": {},
   "outputs": [
    {
     "data": {
      "text/plain": [
       "3"
      ]
     },
     "execution_count": 5,
     "metadata": {},
     "output_type": "execute_result"
    }
   ],
   "source": [
    "#TC = O(n)\n",
    "#SC = O(n)\n",
    "\n",
    "def maxdiffcandy(candyType):    \n",
    "    max_poss = int(len(candyType)/2)\n",
    "    hash_set = set()\n",
    "    for x in candyType:\n",
    "        if x in hash_set:\n",
    "            continue\n",
    "        else:\n",
    "            hash_set.add(x)\n",
    "    max_set =len(hash_set)\n",
    "    if max_set > max_poss:\n",
    "        return max_poss\n",
    "    else:\n",
    "        return max_set\n",
    "    \n",
    "candyType = [1,1,2,2,3,3]\n",
    "maxdiffcandy(candyType)"
   ]
  },
  {
   "cell_type": "markdown",
   "metadata": {},
   "source": [
    "\n",
    "<aside>\n",
    "💡 **Question 3**\n",
    "We define a harmonious array as an array where the difference between its maximum value\n",
    "and its minimum value is exactly 1.\n",
    "\n",
    "Given an integer array nums, return the length of its longest harmonious subsequence\n",
    "among all its possible subsequences.\n",
    "\n",
    "A subsequence of an array is a sequence that can be derived from the array by deleting some or no elements without changing the order of the remaining elements.\n",
    "\n",
    "**Example 1:**\n",
    "Input: nums = [1,3,2,2,5,2,3,7]\n",
    "Output: 5\n",
    "\n",
    "**Explanation:** The longest harmonious subsequence is [3,2,2,2,3].\n",
    "\n",
    "</aside>\n"
   ]
  },
  {
   "cell_type": "code",
   "execution_count": 6,
   "metadata": {},
   "outputs": [],
   "source": [
    "#TC = O(n)\n",
    "#SC =O(n)\n",
    "def longest_har(nums):    \n",
    "    dic ={}\n",
    "    for x in nums:\n",
    "        if x in dic:\n",
    "            dic[x] +=1\n",
    "        else:\n",
    "            dic[x] = 1\n",
    "    max_length = 0\n",
    "    for x in dic.keys():\n",
    "        if x + 1 in dic.keys():\n",
    "            curr_len = dic[x] + dic[x + 1]\n",
    "            if curr_len>max_length:\n",
    "                max_length = curr_len\n",
    "    return max_length"
   ]
  },
  {
   "cell_type": "code",
   "execution_count": 7,
   "metadata": {},
   "outputs": [
    {
     "data": {
      "text/plain": [
       "5"
      ]
     },
     "execution_count": 7,
     "metadata": {},
     "output_type": "execute_result"
    }
   ],
   "source": [
    "nums = [1,3,2,2,5,2,3,7]\n",
    "longest_har(nums)"
   ]
  },
  {
   "cell_type": "markdown",
   "metadata": {},
   "source": [
    "\n",
    "<aside>\n",
    "💡 **Question 4**\n",
    "You have a long flowerbed in which some of the plots are planted, and some are not.\n",
    "However, flowers cannot be planted in adjacent plots.\n",
    "Given an integer array flowerbed containing 0's and 1's, where 0 means empty and 1 means not empty, and an integer n, return true if n new flowers can be planted in the flowerbed without violating the no-adjacent-flowers rule and false otherwise.\n",
    "\n",
    "**Example 1:**\n",
    "Input: flowerbed = [1,0,0,0,1], n = 1\n",
    "Output: true\n",
    "\n",
    "</aside>\n"
   ]
  },
  {
   "cell_type": "code",
   "execution_count": 10,
   "metadata": {},
   "outputs": [],
   "source": [
    "#TC = O(n)\n",
    "#SC = O(1)\n",
    "def flowerplots(flowerbed,n):  \n",
    "    i=0\n",
    "    c=0\n",
    "    #ecxeption case one one place is there\n",
    "    if len(flowerbed) ==1:\n",
    "        if flowerbed[i]==0:\n",
    "            c +=1\n",
    "        if n <= c:\n",
    "            return True\n",
    "        else:\n",
    "            return False    \n",
    "    while i < len(flowerbed):\n",
    "        #for first positon \n",
    "        if i ==0:\n",
    "            if flowerbed[i]==0 and flowerbed[i+1] ==0:\n",
    "                c +=1\n",
    "                flowerbed[i] =1\n",
    "        #for last postion\n",
    "        elif i == len(flowerbed)-1:\n",
    "            if flowerbed[i]==0 and flowerbed[i-1] ==0:\n",
    "                c+=1\n",
    "                flowerbed[i] =1\n",
    "        else:\n",
    "            if flowerbed[i-1]==0 and flowerbed[i]==0 and flowerbed[i+1] ==0:\n",
    "                c+=1\n",
    "                flowerbed[i]=1\n",
    "        \n",
    "        i +=1\n",
    "    if n <= c:\n",
    "        return True\n",
    "    else:\n",
    "        return False"
   ]
  },
  {
   "cell_type": "code",
   "execution_count": 11,
   "metadata": {},
   "outputs": [
    {
     "data": {
      "text/plain": [
       "True"
      ]
     },
     "execution_count": 11,
     "metadata": {},
     "output_type": "execute_result"
    }
   ],
   "source": [
    "flowerbed = [1,0,0,0,1]\n",
    "n = 1\n",
    "flowerplots(flowerbed,n)"
   ]
  },
  {
   "cell_type": "markdown",
   "metadata": {},
   "source": [
    "\n",
    "<aside>\n",
    "💡 **Question 5**\n",
    "Given an integer array nums, find three numbers whose product is maximum and return the maximum product.\n",
    "\n",
    "**Example 1:**\n",
    "Input: nums = [1,2,3]\n",
    "Output: 6\n",
    "\n",
    "</aside>\n"
   ]
  },
  {
   "cell_type": "code",
   "execution_count": 15,
   "metadata": {},
   "outputs": [
    {
     "data": {
      "text/plain": [
       "6"
      ]
     },
     "execution_count": 15,
     "metadata": {},
     "output_type": "execute_result"
    }
   ],
   "source": [
    "#TC = O(nlogn)\n",
    "#SC = O(1)\n",
    "def maxproduct(nums):\n",
    "    nums.sort()\n",
    "    p1=0\n",
    "    p2=len(nums)-1\n",
    "    return max(nums[p2]*nums[p2-1]*nums[p2-2],nums[p2]*nums[p1]*nums[p1+1])\n",
    "\n",
    "nums=[1,2,3]\n",
    "maxproduct(nums)"
   ]
  },
  {
   "cell_type": "markdown",
   "metadata": {},
   "source": [
    "\n",
    "<aside>\n",
    "💡 **Question 6**\n",
    "Given an array of integers nums which is sorted in ascending order, and an integer target,\n",
    "write a function to search target in nums. If target exists, then return its index. Otherwise,\n",
    "return -1.\n",
    "\n",
    "You must write an algorithm with O(log n) runtime complexity.\n",
    "\n",
    "Input: nums = [-1,0,3,5,9,12], target = 9\n",
    "Output: 4\n",
    "\n",
    "**Explanation:** 9 exists in nums and its index is 4\n",
    "\n",
    "</aside>\n"
   ]
  },
  {
   "cell_type": "code",
   "execution_count": 16,
   "metadata": {},
   "outputs": [
    {
     "data": {
      "text/plain": [
       "4"
      ]
     },
     "execution_count": 16,
     "metadata": {},
     "output_type": "execute_result"
    }
   ],
   "source": [
    "#TC=O(logn)\n",
    "#SC=O(1)\n",
    "def binarysearch(nums,target):\n",
    "    p1 =0\n",
    "    p2 =len(nums)-1\n",
    "    while p1<=p2:\n",
    "        mid = int((p1+p2)/2)\n",
    "        if nums[mid] == target:\n",
    "            return mid\n",
    "        elif nums[mid] < target:\n",
    "            p1 = mid+1\n",
    "        else:\n",
    "            p2 = mid-1\n",
    "    \n",
    "    return -1\n",
    "\n",
    "nums = [-1,0,3,5,9,12]\n",
    "target =9\n",
    "binarysearch(nums,target)"
   ]
  },
  {
   "cell_type": "markdown",
   "metadata": {},
   "source": [
    "\n",
    "<aside>\n",
    "💡 **Question 7**\n",
    "An array is monotonic if it is either monotone increasing or monotone decreasing.\n",
    "\n",
    "An array nums is monotone increasing if for all i <= j, nums[i] <= nums[j]. An array nums is\n",
    "monotone decreasing if for all i <= j, nums[i] >= nums[j].\n",
    "\n",
    "Given an integer array nums, return true if the given array is monotonic, or false otherwise.\n",
    "\n",
    "**Example 1:**\n",
    "Input: nums = [1,2,2,3]\n",
    "Output: true\n",
    "\n",
    "</aside>\n"
   ]
  },
  {
   "cell_type": "code",
   "execution_count": 1,
   "metadata": {},
   "outputs": [
    {
     "data": {
      "text/plain": [
       "True"
      ]
     },
     "execution_count": 1,
     "metadata": {},
     "output_type": "execute_result"
    }
   ],
   "source": [
    "#TC = O(n)\n",
    "#SC = O(1)\n",
    "def monotonic(nums):\n",
    "    inc_bool= True\n",
    "    dec_bool= True\n",
    "    p1=1\n",
    "    while p1<len(nums):\n",
    "        if nums[p1-1]>nums[p1]:\n",
    "            inc_bool = False\n",
    "        elif nums[p1-1]<nums[p1]:\n",
    "            dec_bool = False\n",
    "\n",
    "        p1+=1\n",
    "    return inc_bool or dec_bool\n",
    "\n",
    "nums = [1,2,2,3]\n",
    "monotonic(nums)"
   ]
  },
  {
   "cell_type": "markdown",
   "metadata": {},
   "source": [
    "\n",
    "<aside>\n",
    "💡 **Question 8**\n",
    "You are given an integer array nums and an integer k.\n",
    "\n",
    "In one operation, you can choose any index i where 0 <= i < nums.length and change nums[i] to nums[i] + x where x is an integer from the range [-k, k]. You can apply this operation at most once for each index i.\n",
    "\n",
    "The score of nums is the difference between the maximum and minimum elements in nums.\n",
    "\n",
    "Return the minimum score of nums after applying the mentioned operation at most once for each index in it.\n",
    "\n",
    "**Example 1:**\n",
    "Input: nums = [1], k = 0\n",
    "Output: 0\n",
    "\n",
    "**Explanation:** The score is max(nums) - min(nums) = 1 - 1 = 0.\n",
    "\n",
    "</aside>"
   ]
  },
  {
   "cell_type": "code",
   "execution_count": 2,
   "metadata": {},
   "outputs": [
    {
     "data": {
      "text/plain": [
       "0"
      ]
     },
     "execution_count": 2,
     "metadata": {},
     "output_type": "execute_result"
    }
   ],
   "source": [
    "#TC =O(n)\n",
    "#SC =O(1)\n",
    "def minscore(nums,k):    \n",
    "    final_max =nums[0]\n",
    "    final_min =nums[0]\n",
    "    for x in nums:\n",
    "        if x >final_max:\n",
    "            final_max =x\n",
    "        elif x<final_min:\n",
    "            final_min =x  \n",
    "    if final_max-final_min-(2*k)>=0:\n",
    "        return final_max-final_min-(2*k)\n",
    "    \n",
    "    return 0 \n",
    "\n",
    "nums= [1] \n",
    "k =0\n",
    "minscore(nums,k)"
   ]
  },
  {
   "attachments": {},
   "cell_type": "markdown",
   "metadata": {},
   "source": [
    "# The End "
   ]
  }
 ],
 "metadata": {
  "kernelspec": {
   "display_name": "Python 3",
   "language": "python",
   "name": "python3"
  },
  "language_info": {
   "codemirror_mode": {
    "name": "ipython",
    "version": 3
   },
   "file_extension": ".py",
   "mimetype": "text/x-python",
   "name": "python",
   "nbconvert_exporter": "python",
   "pygments_lexer": "ipython3",
   "version": "3.10.6"
  },
  "orig_nbformat": 4
 },
 "nbformat": 4,
 "nbformat_minor": 2
}
